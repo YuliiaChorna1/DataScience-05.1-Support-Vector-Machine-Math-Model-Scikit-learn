{
 "cells": [
  {
   "cell_type": "code",
   "execution_count": 1,
   "metadata": {},
   "outputs": [],
   "source": [
    "import numpy as np\n",
    "import scipy.io as scio\n",
    "import matplotlib.pyplot as plt\n",
    "from sklearn import svm\n",
    "\n",
    "plt.ion()\n",
    "np.set_printoptions(formatter={\"float\":\"{: 0.6f}\".format})"
   ]
  },
  {
   "cell_type": "code",
   "execution_count": null,
   "metadata": {},
   "outputs": [],
   "source": [
    "from google.colab import drive\n",
    "\n",
    "drive.mount(\"/content/gdrive\", force_remount=True)"
   ]
  },
  {
   "cell_type": "code",
   "execution_count": null,
   "metadata": {},
   "outputs": [],
   "source": [
    "data_path = \"/content/gdrive/MyDrive/DataScience7/data\" # path to folder with data"
   ]
  },
  {
   "cell_type": "markdown",
   "metadata": {},
   "source": [
    "## Plot Data"
   ]
  },
  {
   "cell_type": "code",
   "execution_count": 4,
   "metadata": {},
   "outputs": [],
   "source": [
    "def plot_data(X, y, pos_label=\"y=1\", neg_label=\"y=0\"):\n",
    "    positive = y == 1\n",
    "    negative = y == 0\n",
    "\n",
    "    # Plot examples\n",
    "    plt.plot(X[positive, 0], X[positive, 1], \"k+\", label=pos_label)\n",
    "    plt.plot(X[negative, 0], X[negative, 1], \"yo\", label=neg_label)"
   ]
  },
  {
   "cell_type": "markdown",
   "metadata": {},
   "source": [
    "## Plot Boundary"
   ]
  },
  {
   "cell_type": "code",
   "execution_count": 5,
   "metadata": {},
   "outputs": [],
   "source": [
    "def visualize_boundary(clf, X, x_min, x_max, y_min, y_max):\n",
    "    h = .02\n",
    "    xx, yy = np.meshgrid(np.arrange(x_min, x_max, h), np.arange(y_min, y_max, h))\n",
    "    Z = clf.predict(np.c_[xx.ravel(), yy.ravel()])\n",
    "    Z = Z.reshape(xx.shape)\n",
    "    plt.contour(xx, yy, Z, levels=[0], colors=\"r\")"
   ]
  },
  {
   "cell_type": "markdown",
   "metadata": {},
   "source": [
    "## Part 1: Loading and Visualizing Data"
   ]
  },
  {
   "cell_type": "code",
   "execution_count": null,
   "metadata": {},
   "outputs": [],
   "source": [
    "# Load from ex6data1:\n",
    "data = scio.loadmat(data_path + \"ex6data1.mat\")\n",
    "X = data[\"X\"]\n",
    "y = data[\"y\"].flatten()\n",
    "m = y.size"
   ]
  },
  {
   "cell_type": "code",
   "execution_count": null,
   "metadata": {},
   "outputs": [],
   "source": [
    "plt.figure(figsize=(12, 10))\n",
    "plot_data(X, y)"
   ]
  },
  {
   "cell_type": "markdown",
   "metadata": {},
   "source": [
    "![Plot from lecture](\"C:\\Users\\yulic\\Pictures\\Screenshots\\1plot_example.png\")"
   ]
  },
  {
   "cell_type": "markdown",
   "metadata": {},
   "source": [
    "# SVM"
   ]
  },
  {
   "cell_type": "code",
   "execution_count": null,
   "metadata": {},
   "outputs": [],
   "source": [
    "c = 1000\n",
    "clf = svm.SVC(C=c, kernel=\"linear\")\n",
    "clf.fit(X, y)\n",
    "\n",
    "plot_data(X, y)\n",
    "visualize_boundary(clf, X, 0, 4.5, 1.5, 5)"
   ]
  },
  {
   "cell_type": "markdown",
   "metadata": {},
   "source": [
    "![Plot from lecture](\"C:\\Users\\yulic\\Pictures\\Screenshots\\1plot_example.png\")"
   ]
  },
  {
   "cell_type": "markdown",
   "metadata": {},
   "source": [
    "# RBF"
   ]
  },
  {
   "cell_type": "code",
   "execution_count": null,
   "metadata": {},
   "outputs": [],
   "source": [
    "data = scio.loadmat(data_path + \"ex6data2.mat\")\n",
    "X = data[\"X\"]\n",
    "y = data[\"y\"].flatten()\n",
    "m = y.size"
   ]
  },
  {
   "cell_type": "code",
   "execution_count": null,
   "metadata": {},
   "outputs": [],
   "source": [
    "plt.figure(figsize=(12, 8))\n",
    "plt.grid()\n",
    "plot_data(X, y)"
   ]
  },
  {
   "cell_type": "markdown",
   "metadata": {},
   "source": [
    "![Plot from lecture](\"C:\\Users\\yulic\\Pictures\\Screenshots\\1plot_example.png\")"
   ]
  },
  {
   "cell_type": "code",
   "execution_count": null,
   "metadata": {},
   "outputs": [],
   "source": [
    "c = 1\n",
    "sigma = 0,1\n",
    "\n",
    "# clf = cvm.SVC(C=c, kernel=gaussian_kernel)\n",
    "clf = svm.SVC(C=c, kernel=\"rbf\", gamma=np.power(sigma, -2))\n",
    "clf.fit(X, y)\n",
    "\n",
    "plot_data(X, y)\n",
    "visualize_boundary(clf, X, 0, 1, .4, 1.0)"
   ]
  },
  {
   "cell_type": "markdown",
   "metadata": {},
   "source": [
    "![Plot from lecture](\"C:\\Users\\yulic\\Pictures\\Screenshots\\1plot_example.png\")"
   ]
  },
  {
   "cell_type": "markdown",
   "metadata": {},
   "source": [
    "## One more example"
   ]
  },
  {
   "cell_type": "code",
   "execution_count": null,
   "metadata": {},
   "outputs": [],
   "source": [
    "# Load from ex6data3:\n",
    "data = scio.loadmat(data_path + \"ex6data3.mat\")\n",
    "X = data[\"X\"]\n",
    "y = data[\"y\"].flatten()\n",
    "m = y.size\n",
    "\n",
    "# Plot training data\n",
    "plot_data(X, y)\n",
    "\n",
    "clf = svm.SVC(C=c, kernel=\"rbf\", gamma=np.power(sigma, -2))\n",
    "clf.fit(X, y)\n",
    "\n",
    "visualize_boundary(clf, X, -.5, .3, -.8, .6)"
   ]
  }
 ],
 "metadata": {
  "kernelspec": {
   "display_name": "Python 3",
   "language": "python",
   "name": "python3"
  },
  "language_info": {
   "codemirror_mode": {
    "name": "ipython",
    "version": 3
   },
   "file_extension": ".py",
   "mimetype": "text/x-python",
   "name": "python",
   "nbconvert_exporter": "python",
   "pygments_lexer": "ipython3",
   "version": "3.11.4"
  }
 },
 "nbformat": 4,
 "nbformat_minor": 2
}
